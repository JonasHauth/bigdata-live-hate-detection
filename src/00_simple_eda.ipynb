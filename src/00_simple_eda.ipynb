{
 "cells": [
  {
   "cell_type": "markdown",
   "metadata": {},
   "source": [
    "# Imports"
   ]
  },
  {
   "cell_type": "code",
   "execution_count": 3,
   "metadata": {},
   "outputs": [],
   "source": [
    "import pandas as pd\n",
    "from collections import Counter\n",
    "import matplotlib.pyplot as plt\n",
    "import string\n",
    "\n",
    "# Import stopwords with nltk.\n",
    "from nltk.corpus import stopwords\n",
    "stop = stopwords.words('english')\n",
    "\n",
    "#import nltk\n",
    "#nltk.download('stopwords')"
   ]
  },
  {
   "cell_type": "code",
   "execution_count": 5,
   "metadata": {},
   "outputs": [
    {
     "data": {
      "text/html": [
       "<div>\n",
       "<style scoped>\n",
       "    .dataframe tbody tr th:only-of-type {\n",
       "        vertical-align: middle;\n",
       "    }\n",
       "\n",
       "    .dataframe tbody tr th {\n",
       "        vertical-align: top;\n",
       "    }\n",
       "\n",
       "    .dataframe thead th {\n",
       "        text-align: right;\n",
       "    }\n",
       "</style>\n",
       "<table border=\"1\" class=\"dataframe\">\n",
       "  <thead>\n",
       "    <tr style=\"text-align: right;\">\n",
       "      <th></th>\n",
       "      <th>labels</th>\n",
       "      <th>tweet_text</th>\n",
       "      <th>labels_str</th>\n",
       "    </tr>\n",
       "  </thead>\n",
       "  <tbody>\n",
       "    <tr>\n",
       "      <th>1114679353714016256</th>\n",
       "      <td>[4, 1, 3]</td>\n",
       "      <td>@FriskDontMiss Nigga https://t.co/cAsaLWEpue</td>\n",
       "      <td>[Religion, Racist, Homophobe]</td>\n",
       "    </tr>\n",
       "    <tr>\n",
       "      <th>1063020048816660480</th>\n",
       "      <td>[5, 5, 5]</td>\n",
       "      <td>My horses are retarded https://t.co/HYhqc6d5WN</td>\n",
       "      <td>[OtherHate, OtherHate, OtherHate]</td>\n",
       "    </tr>\n",
       "    <tr>\n",
       "      <th>1108927368075374593</th>\n",
       "      <td>[0, 0, 0]</td>\n",
       "      <td>“NIGGA ON MA MOMMA YOUNGBOY BE SPITTING REAL S...</td>\n",
       "      <td>[NotHate, NotHate, NotHate]</td>\n",
       "    </tr>\n",
       "    <tr>\n",
       "      <th>1114558534635618305</th>\n",
       "      <td>[1, 0, 0]</td>\n",
       "      <td>RT xxSuGVNGxx: I ran into this HOLY NIGGA TODA...</td>\n",
       "      <td>[Racist, NotHate, NotHate]</td>\n",
       "    </tr>\n",
       "    <tr>\n",
       "      <th>1035252480215592966</th>\n",
       "      <td>[1, 0, 1]</td>\n",
       "      <td>“EVERYbody calling you Nigger now!” https://t....</td>\n",
       "      <td>[Racist, NotHate, Racist]</td>\n",
       "    </tr>\n",
       "  </tbody>\n",
       "</table>\n",
       "</div>"
      ],
      "text/plain": [
       "                        labels  \\\n",
       "1114679353714016256  [4, 1, 3]   \n",
       "1063020048816660480  [5, 5, 5]   \n",
       "1108927368075374593  [0, 0, 0]   \n",
       "1114558534635618305  [1, 0, 0]   \n",
       "1035252480215592966  [1, 0, 1]   \n",
       "\n",
       "                                                            tweet_text  \\\n",
       "1114679353714016256       @FriskDontMiss Nigga https://t.co/cAsaLWEpue   \n",
       "1063020048816660480     My horses are retarded https://t.co/HYhqc6d5WN   \n",
       "1108927368075374593  “NIGGA ON MA MOMMA YOUNGBOY BE SPITTING REAL S...   \n",
       "1114558534635618305  RT xxSuGVNGxx: I ran into this HOLY NIGGA TODA...   \n",
       "1035252480215592966  “EVERYbody calling you Nigger now!” https://t....   \n",
       "\n",
       "                                            labels_str  \n",
       "1114679353714016256      [Religion, Racist, Homophobe]  \n",
       "1063020048816660480  [OtherHate, OtherHate, OtherHate]  \n",
       "1108927368075374593        [NotHate, NotHate, NotHate]  \n",
       "1114558534635618305         [Racist, NotHate, NotHate]  \n",
       "1035252480215592966          [Racist, NotHate, Racist]  "
      ]
     },
     "execution_count": 5,
     "metadata": {},
     "output_type": "execute_result"
    }
   ],
   "source": [
    "tweets_text_label = pd.read_json('../data/MMHS150K_GT.json', orient='index', convert_axes=False, convert_dates=False, keep_default_dates=False) #\n",
    "tweets_text_label = tweets_text_label.drop(columns=['img_url', 'tweet_url'])\n",
    "tweets_text_label.head(5)"
   ]
  },
  {
   "cell_type": "markdown",
   "metadata": {},
   "source": [
    "# Multimodal Hate Speech"
   ]
  },
  {
   "cell_type": "markdown",
   "metadata": {},
   "source": [
    "# Size"
   ]
  },
  {
   "cell_type": "code",
   "execution_count": 6,
   "metadata": {},
   "outputs": [
    {
     "name": "stdout",
     "output_type": "stream",
     "text": [
      "For the training we have 149823 unique annotated tweets with text and image data. Taking up over 6GB of Disk Space\n"
     ]
    }
   ],
   "source": [
    "print(f'For the training we have {len(tweets_text_label)} unique annotated tweets with text and image data. Taking up over 6GB of Disk Space')"
   ]
  },
  {
   "cell_type": "markdown",
   "metadata": {},
   "source": [
    "## Label Distribution\n",
    "The dataset distinguishes between 0 - NotHate, 1 - Racist, 2 - Sexist, 3 - Homophobe, 4 - Religion, 5 - OtherHate for our purpose we shrink it to 0 - NotHate, 1 - Hate. <br>\n",
    "Each tweet in the dataset was annotated by 3 different Annotators. Therefore we follow the majority of Voters."
   ]
  },
  {
   "cell_type": "code",
   "execution_count": 7,
   "metadata": {},
   "outputs": [],
   "source": [
    "dct = {0:0, 1:1, 2:1, 3:1, 4:1, 5:1}\n",
    "tweets_text_label['labels'] = tweets_text_label['labels'].apply(lambda x: [*map(dct.get, x)])"
   ]
  },
  {
   "cell_type": "code",
   "execution_count": 8,
   "metadata": {},
   "outputs": [],
   "source": [
    "tweets_text_label['majority_label'] = tweets_text_label.apply(lambda x: Counter(x['labels']).most_common()[0][0], axis=1)"
   ]
  },
  {
   "cell_type": "code",
   "execution_count": 9,
   "metadata": {},
   "outputs": [
    {
     "data": {
      "text/plain": [
       "<AxesSubplot:>"
      ]
     },
     "execution_count": 9,
     "metadata": {},
     "output_type": "execute_result"
    },
    {
     "data": {
      "image/png": "[encoded data removed]",
      "text/plain": [
       "<Figure size 640x480 with 1 Axes>"
      ]
     },
     "metadata": {},
     "output_type": "display_data"
    }
   ],
   "source": [
    "tweets_text_label['majority_label'].value_counts().sort_values().plot(kind = 'barh')"
   ]
  },
  {
   "cell_type": "markdown",
   "metadata": {},
   "source": [
    "# Text Data"
   ]
  },
  {
   "cell_type": "markdown",
   "metadata": {},
   "source": [
    "Länge der Texte"
   ]
  },
  {
   "cell_type": "code",
   "execution_count": 10,
   "metadata": {},
   "outputs": [
    {
     "data": {
      "text/plain": [
       "majority_label\n",
       "0    9.481037\n",
       "1    9.458386\n",
       "Name: len_text, dtype: float64"
      ]
     },
     "execution_count": 10,
     "metadata": {},
     "output_type": "execute_result"
    }
   ],
   "source": [
    "tweets_text_label['len_text'] = tweets_text_label['tweet_text'].apply(lambda x: sum([i.strip(string.punctuation).isalpha() for i in x.split()]))\n",
    "tweets_text_label.groupby(['majority_label'])['len_text'].mean()"
   ]
  },
  {
   "cell_type": "markdown",
   "metadata": {},
   "source": [
    "Top Words ohne Stopwords"
   ]
  },
  {
   "cell_type": "code",
   "execution_count": 11,
   "metadata": {},
   "outputs": [],
   "source": [
    "tweets_text_label[\"tweet_text_removed_stopwords\"] = tweets_text_label[\"tweet_text\"].apply(lambda x: ' '.join([word for word in x.lower().split() if word not in (stop)]))"
   ]
  },
  {
   "cell_type": "code",
   "execution_count": 12,
   "metadata": {},
   "outputs": [
    {
     "data": {
      "text/plain": [
       "[('nigga', 69328),\n",
       " ('like', 10656),\n",
       " ('cunt', 10386),\n",
       " ('ass', 5955),\n",
       " ('dyke', 5939),\n",
       " ('twat', 5320),\n",
       " ('got', 5098),\n",
       " ('i’m', 5051),\n",
       " ('fuck', 4937),\n",
       " ('get', 4606)]"
      ]
     },
     "execution_count": 12,
     "metadata": {},
     "output_type": "execute_result"
    }
   ],
   "source": [
    "# Most common words overall.\n",
    "Counter(\" \".join(tweets_text_label[\"tweet_text_removed_stopwords\"]).split()).most_common(10)"
   ]
  },
  {
   "cell_type": "code",
   "execution_count": 42,
   "metadata": {},
   "outputs": [
    {
     "data": {
      "text/plain": [
       "[('nigga', 60254),\n",
       " ('like', 8289),\n",
       " ('cunt', 7092),\n",
       " ('ass', 4636),\n",
       " ('got', 4090),\n",
       " ('i’m', 4027),\n",
       " ('dyke', 3880),\n",
       " ('twat', 3814),\n",
       " ('fuck', 3681),\n",
       " ('get', 3474)]"
      ]
     },
     "execution_count": 42,
     "metadata": {},
     "output_type": "execute_result"
    }
   ],
   "source": [
    "# Most common words for NotHate.\n",
    "tweets_text_label_0 = tweets_text_label[tweets_text_label['majority_label'] == 0]\n",
    "Counter(\" \".join(tweets_text_label_0[\"tweet_text_removed_stopwords\"]).split()).most_common(10)"
   ]
  },
  {
   "cell_type": "code",
   "execution_count": 41,
   "metadata": {},
   "outputs": [
    {
     "data": {
      "text/plain": [
       "[('nigga', 9074),\n",
       " ('cunt', 3294),\n",
       " ('faggot', 2690),\n",
       " ('nigger', 2398),\n",
       " ('like', 2367),\n",
       " ('retarded', 2200),\n",
       " ('dyke', 2059),\n",
       " ('white', 1682),\n",
       " ('twat', 1506),\n",
       " ('retard', 1446)]"
      ]
     },
     "execution_count": 41,
     "metadata": {},
     "output_type": "execute_result"
    }
   ],
   "source": [
    "# Most common words for Hate.\n",
    "tweets_text_label_1 = tweets_text_label[tweets_text_label['majority_label'] == 1]\n",
    "Counter(\" \".join(tweets_text_label_1[\"tweet_text_removed_stopwords\"]).split()).most_common(10)"
   ]
  },
  {
   "cell_type": "markdown",
   "metadata": {},
   "source": [
    "# Image Data"
   ]
  },
  {
   "cell_type": "code",
   "execution_count": 43,
   "metadata": {},
   "outputs": [
    {
     "data": {
      "text/html": [
       "<div>\n",
       "<style scoped>\n",
       "    .dataframe tbody tr th:only-of-type {\n",
       "        vertical-align: middle;\n",
       "    }\n",
       "\n",
       "    .dataframe tbody tr th {\n",
       "        vertical-align: top;\n",
       "    }\n",
       "\n",
       "    .dataframe thead th {\n",
       "        text-align: right;\n",
       "    }\n",
       "</style>\n",
       "<table border=\"1\" class=\"dataframe\">\n",
       "  <thead>\n",
       "    <tr style=\"text-align: right;\">\n",
       "      <th></th>\n",
       "      <th>labels</th>\n",
       "      <th>tweet_text</th>\n",
       "      <th>labels_str</th>\n",
       "      <th>majority_label</th>\n",
       "      <th>len_text</th>\n",
       "      <th>tweet_text_removed_stopwords</th>\n",
       "    </tr>\n",
       "  </thead>\n",
       "  <tbody>\n",
       "    <tr>\n",
       "      <th>1114679353714016256</th>\n",
       "      <td>[1, 1, 1]</td>\n",
       "      <td>@FriskDontMiss Nigga https://t.co/cAsaLWEpue</td>\n",
       "      <td>[Religion, Racist, Homophobe]</td>\n",
       "      <td>1</td>\n",
       "      <td>2</td>\n",
       "      <td>@friskdontmiss nigga https://t.co/casalwepue</td>\n",
       "    </tr>\n",
       "    <tr>\n",
       "      <th>1063020048816660480</th>\n",
       "      <td>[1, 1, 1]</td>\n",
       "      <td>My horses are retarded https://t.co/HYhqc6d5WN</td>\n",
       "      <td>[OtherHate, OtherHate, OtherHate]</td>\n",
       "      <td>1</td>\n",
       "      <td>4</td>\n",
       "      <td>horses retarded https://t.co/hyhqc6d5wn</td>\n",
       "    </tr>\n",
       "    <tr>\n",
       "      <th>1108927368075374593</th>\n",
       "      <td>[0, 0, 0]</td>\n",
       "      <td>“NIGGA ON MA MOMMA YOUNGBOY BE SPITTING REAL S...</td>\n",
       "      <td>[NotHate, NotHate, NotHate]</td>\n",
       "      <td>0</td>\n",
       "      <td>8</td>\n",
       "      <td>“nigga momma youngboy spitting real shit nigga...</td>\n",
       "    </tr>\n",
       "    <tr>\n",
       "      <th>1114558534635618305</th>\n",
       "      <td>[1, 0, 0]</td>\n",
       "      <td>RT xxSuGVNGxx: I ran into this HOLY NIGGA TODA...</td>\n",
       "      <td>[Racist, NotHate, NotHate]</td>\n",
       "      <td>0</td>\n",
       "      <td>9</td>\n",
       "      <td>rt xxsugvngxx: ran holy nigga today 😭😭😭😭 https...</td>\n",
       "    </tr>\n",
       "    <tr>\n",
       "      <th>1035252480215592966</th>\n",
       "      <td>[1, 0, 1]</td>\n",
       "      <td>“EVERYbody calling you Nigger now!” https://t....</td>\n",
       "      <td>[Racist, NotHate, Racist]</td>\n",
       "      <td>1</td>\n",
       "      <td>3</td>\n",
       "      <td>“everybody calling nigger now!” https://t.co/6...</td>\n",
       "    </tr>\n",
       "    <tr>\n",
       "      <th>...</th>\n",
       "      <td>...</td>\n",
       "      <td>...</td>\n",
       "      <td>...</td>\n",
       "      <td>...</td>\n",
       "      <td>...</td>\n",
       "      <td>...</td>\n",
       "    </tr>\n",
       "    <tr>\n",
       "      <th>1114170734472048640</th>\n",
       "      <td>[1, 1, 0]</td>\n",
       "      <td>@svdate @gtconway3d I would just say hes Donny...</td>\n",
       "      <td>[Sexist, OtherHate, NotHate]</td>\n",
       "      <td>1</td>\n",
       "      <td>9</td>\n",
       "      <td>@svdate @gtconway3d would say hes donny retard...</td>\n",
       "    </tr>\n",
       "    <tr>\n",
       "      <th>1110368198786846720</th>\n",
       "      <td>[0, 0, 0]</td>\n",
       "      <td>@Cheftime_Dev congrats my nigga keep on grindi...</td>\n",
       "      <td>[NotHate, NotHate, NotHate]</td>\n",
       "      <td>0</td>\n",
       "      <td>6</td>\n",
       "      <td>@cheftime_dev congrats nigga keep grinding htt...</td>\n",
       "    </tr>\n",
       "    <tr>\n",
       "      <th>1106941858540851200</th>\n",
       "      <td>[0, 1, 0]</td>\n",
       "      <td>My nigga big shitty https://t.co/e0snJGBgH9</td>\n",
       "      <td>[NotHate, Racist, NotHate]</td>\n",
       "      <td>0</td>\n",
       "      <td>4</td>\n",
       "      <td>nigga big shitty https://t.co/e0snjgbgh9</td>\n",
       "    </tr>\n",
       "    <tr>\n",
       "      <th>1105268309233188865</th>\n",
       "      <td>[1, 0, 0]</td>\n",
       "      <td>did she just say “my nigga” to Rich? &amp;amp; she...</td>\n",
       "      <td>[Racist, NotHate, NotHate]</td>\n",
       "      <td>0</td>\n",
       "      <td>15</td>\n",
       "      <td>say “my nigga” rich? &amp;amp; said anger? mmph. #...</td>\n",
       "    </tr>\n",
       "    <tr>\n",
       "      <th>1114653514364530691</th>\n",
       "      <td>[0, 0, 1]</td>\n",
       "      <td>This nigga Joe Budden said thanos got a galact...</td>\n",
       "      <td>[NotHate, NotHate, Homophobe]</td>\n",
       "      <td>0</td>\n",
       "      <td>10</td>\n",
       "      <td>nigga joe budden said thanos got galactic ass ...</td>\n",
       "    </tr>\n",
       "  </tbody>\n",
       "</table>\n",
       "<p>149823 rows × 6 columns</p>\n",
       "</div>"
      ],
      "text/plain": [
       "                        labels  \\\n",
       "1114679353714016256  [1, 1, 1]   \n",
       "1063020048816660480  [1, 1, 1]   \n",
       "1108927368075374593  [0, 0, 0]   \n",
       "1114558534635618305  [1, 0, 0]   \n",
       "1035252480215592966  [1, 0, 1]   \n",
       "...                        ...   \n",
       "1114170734472048640  [1, 1, 0]   \n",
       "1110368198786846720  [0, 0, 0]   \n",
       "1106941858540851200  [0, 1, 0]   \n",
       "1105268309233188865  [1, 0, 0]   \n",
       "1114653514364530691  [0, 0, 1]   \n",
       "\n",
       "                                                            tweet_text  \\\n",
       "1114679353714016256       @FriskDontMiss Nigga https://t.co/cAsaLWEpue   \n",
       "1063020048816660480     My horses are retarded https://t.co/HYhqc6d5WN   \n",
       "1108927368075374593  “NIGGA ON MA MOMMA YOUNGBOY BE SPITTING REAL S...   \n",
       "1114558534635618305  RT xxSuGVNGxx: I ran into this HOLY NIGGA TODA...   \n",
       "1035252480215592966  “EVERYbody calling you Nigger now!” https://t....   \n",
       "...                                                                ...   \n",
       "1114170734472048640  @svdate @gtconway3d I would just say hes Donny...   \n",
       "1110368198786846720  @Cheftime_Dev congrats my nigga keep on grindi...   \n",
       "1106941858540851200        My nigga big shitty https://t.co/e0snJGBgH9   \n",
       "1105268309233188865  did she just say “my nigga” to Rich? &amp; she...   \n",
       "1114653514364530691  This nigga Joe Budden said thanos got a galact...   \n",
       "\n",
       "                                            labels_str  majority_label  \\\n",
       "1114679353714016256      [Religion, Racist, Homophobe]               1   \n",
       "1063020048816660480  [OtherHate, OtherHate, OtherHate]               1   \n",
       "1108927368075374593        [NotHate, NotHate, NotHate]               0   \n",
       "1114558534635618305         [Racist, NotHate, NotHate]               0   \n",
       "1035252480215592966          [Racist, NotHate, Racist]               1   \n",
       "...                                                ...             ...   \n",
       "1114170734472048640       [Sexist, OtherHate, NotHate]               1   \n",
       "1110368198786846720        [NotHate, NotHate, NotHate]               0   \n",
       "1106941858540851200         [NotHate, Racist, NotHate]               0   \n",
       "1105268309233188865         [Racist, NotHate, NotHate]               0   \n",
       "1114653514364530691      [NotHate, NotHate, Homophobe]               0   \n",
       "\n",
       "                     len_text  \\\n",
       "1114679353714016256         2   \n",
       "1063020048816660480         4   \n",
       "1108927368075374593         8   \n",
       "1114558534635618305         9   \n",
       "1035252480215592966         3   \n",
       "...                       ...   \n",
       "1114170734472048640         9   \n",
       "1110368198786846720         6   \n",
       "1106941858540851200         4   \n",
       "1105268309233188865        15   \n",
       "1114653514364530691        10   \n",
       "\n",
       "                                          tweet_text_removed_stopwords  \n",
       "1114679353714016256       @friskdontmiss nigga https://t.co/casalwepue  \n",
       "1063020048816660480            horses retarded https://t.co/hyhqc6d5wn  \n",
       "1108927368075374593  “nigga momma youngboy spitting real shit nigga...  \n",
       "1114558534635618305  rt xxsugvngxx: ran holy nigga today 😭😭😭😭 https...  \n",
       "1035252480215592966  “everybody calling nigger now!” https://t.co/6...  \n",
       "...                                                                ...  \n",
       "1114170734472048640  @svdate @gtconway3d would say hes donny retard...  \n",
       "1110368198786846720  @cheftime_dev congrats nigga keep grinding htt...  \n",
       "1106941858540851200           nigga big shitty https://t.co/e0snjgbgh9  \n",
       "1105268309233188865  say “my nigga” rich? &amp; said anger? mmph. #...  \n",
       "1114653514364530691  nigga joe budden said thanos got galactic ass ...  \n",
       "\n",
       "[149823 rows x 6 columns]"
      ]
     },
     "execution_count": 43,
     "metadata": {},
     "output_type": "execute_result"
    }
   ],
   "source": [
    "tweets_text_label"
   ]
  },
  {
   "cell_type": "code",
   "execution_count": null,
   "metadata": {},
   "outputs": [],
   "source": []
  }
 ],
 "metadata": {
  "kernelspec": {
   "display_name": "Python 3 (ipykernel)",
   "language": "python",
   "name": "python3"
  },
  "language_info": {
   "codemirror_mode": {
    "name": "ipython",
    "version": 3
   },
   "file_extension": ".py",
   "mimetype": "text/x-python",
   "name": "python",
   "nbconvert_exporter": "python",
   "pygments_lexer": "ipython3",
   "version": "3.9.13"
  },
  "vscode": {
   "interpreter": {
    "hash": "28d6d9e31a694f2aba28d42b1019d9365f56410d563150feaee59905aa4508a9"
   }
  }
 },
 "nbformat": 4,
 "nbformat_minor": 4
}
