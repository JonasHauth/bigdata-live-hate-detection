{
 "cells": [
  {
   "cell_type": "markdown",
   "metadata": {},
   "source": [
    "# Imports"
   ]
  },
  {
   "cell_type": "code",
   "execution_count": 1,
   "metadata": {},
   "outputs": [],
   "source": [
    "import pandas as pd\n",
    "from collections import Counter"
   ]
  },
  {
   "cell_type": "markdown",
   "metadata": {},
   "source": [
    "# Prepare Training Data"
   ]
  },
  {
   "cell_type": "code",
   "execution_count": 2,
   "metadata": {},
   "outputs": [
    {
     "data": {
      "text/html": [
       "<div>\n",
       "<style scoped>\n",
       "    .dataframe tbody tr th:only-of-type {\n",
       "        vertical-align: middle;\n",
       "    }\n",
       "\n",
       "    .dataframe tbody tr th {\n",
       "        vertical-align: top;\n",
       "    }\n",
       "\n",
       "    .dataframe thead th {\n",
       "        text-align: right;\n",
       "    }\n",
       "</style>\n",
       "<table border=\"1\" class=\"dataframe\">\n",
       "  <thead>\n",
       "    <tr style=\"text-align: right;\">\n",
       "      <th></th>\n",
       "      <th>level_0</th>\n",
       "      <th>index</th>\n",
       "      <th>labels</th>\n",
       "      <th>tweet_text</th>\n",
       "      <th>labels_str</th>\n",
       "      <th>majority_label</th>\n",
       "      <th>len_text</th>\n",
       "      <th>tweet_text_removed_stopwords</th>\n",
       "    </tr>\n",
       "  </thead>\n",
       "  <tbody>\n",
       "    <tr>\n",
       "      <th>0</th>\n",
       "      <td>0</td>\n",
       "      <td>1114679353714016256</td>\n",
       "      <td>[1, 1, 1]</td>\n",
       "      <td>@ Nigga FriskDontMiss: https / t co /. cAsaLWE...</td>\n",
       "      <td>[Religion, Racist, Homophobe]</td>\n",
       "      <td>1</td>\n",
       "      <td>2</td>\n",
       "      <td>@friskdontmiss nigga https://t.co/casalwepue</td>\n",
       "    </tr>\n",
       "    <tr>\n",
       "      <th>1</th>\n",
       "      <td>1</td>\n",
       "      <td>1063020048816660480</td>\n",
       "      <td>[1, 1, 1]</td>\n",
       "      <td>Are horses my retarded: https / /. t co HYhqc6...</td>\n",
       "      <td>[OtherHate, OtherHate, OtherHate]</td>\n",
       "      <td>1</td>\n",
       "      <td>4</td>\n",
       "      <td>horses retarded https://t.co/hyhqc6d5wn</td>\n",
       "    </tr>\n",
       "    <tr>\n",
       "      <th>2</th>\n",
       "      <td>2</td>\n",
       "      <td>1108927368075374592</td>\n",
       "      <td>[0, 0, 0]</td>\n",
       "      <td>NIGGA MA “ ON YOUNGBOY MOMMA REAL BE SPITTING ...</td>\n",
       "      <td>[NotHate, NotHate, NotHate]</td>\n",
       "      <td>0</td>\n",
       "      <td>8</td>\n",
       "      <td>“nigga momma youngboy spitting real shit nigga...</td>\n",
       "    </tr>\n",
       "    <tr>\n",
       "      <th>3</th>\n",
       "      <td>3</td>\n",
       "      <td>1114558534635618304</td>\n",
       "      <td>[1, 0, 0]</td>\n",
       "      <td>RT I xxSuGVNGxx: into HOLY ran this TODAY 😭 😭 ...</td>\n",
       "      <td>[Racist, NotHate, NotHate]</td>\n",
       "      <td>0</td>\n",
       "      <td>9</td>\n",
       "      <td>rt xxsugvngxx: ran holy nigga today 😭😭😭😭 https...</td>\n",
       "    </tr>\n",
       "    <tr>\n",
       "      <th>4</th>\n",
       "      <td>4</td>\n",
       "      <td>1035252480215592960</td>\n",
       "      <td>[1, 0, 1]</td>\n",
       "      <td>EVERYbody you “ now calling ”! : Nigger https ...</td>\n",
       "      <td>[Racist, NotHate, Racist]</td>\n",
       "      <td>1</td>\n",
       "      <td>3</td>\n",
       "      <td>“everybody calling nigger now!” https://t.co/6...</td>\n",
       "    </tr>\n",
       "  </tbody>\n",
       "</table>\n",
       "</div>"
      ],
      "text/plain": [
       "   level_0                index     labels  \\\n",
       "0        0  1114679353714016256  [1, 1, 1]   \n",
       "1        1  1063020048816660480  [1, 1, 1]   \n",
       "2        2  1108927368075374592  [0, 0, 0]   \n",
       "3        3  1114558534635618304  [1, 0, 0]   \n",
       "4        4  1035252480215592960  [1, 0, 1]   \n",
       "\n",
       "                                          tweet_text  \\\n",
       "0  @ Nigga FriskDontMiss: https / t co /. cAsaLWE...   \n",
       "1  Are horses my retarded: https / /. t co HYhqc6...   \n",
       "2  NIGGA MA “ ON YOUNGBOY MOMMA REAL BE SPITTING ...   \n",
       "3  RT I xxSuGVNGxx: into HOLY ran this TODAY 😭 😭 ...   \n",
       "4  EVERYbody you “ now calling ”! : Nigger https ...   \n",
       "\n",
       "                          labels_str  majority_label  len_text  \\\n",
       "0      [Religion, Racist, Homophobe]               1         2   \n",
       "1  [OtherHate, OtherHate, OtherHate]               1         4   \n",
       "2        [NotHate, NotHate, NotHate]               0         8   \n",
       "3         [Racist, NotHate, NotHate]               0         9   \n",
       "4          [Racist, NotHate, Racist]               1         3   \n",
       "\n",
       "                        tweet_text_removed_stopwords  \n",
       "0       @friskdontmiss nigga https://t.co/casalwepue  \n",
       "1            horses retarded https://t.co/hyhqc6d5wn  \n",
       "2  “nigga momma youngboy spitting real shit nigga...  \n",
       "3  rt xxsugvngxx: ran holy nigga today 😭😭😭😭 https...  \n",
       "4  “everybody calling nigger now!” https://t.co/6...  "
      ]
     },
     "execution_count": 2,
     "metadata": {},
     "output_type": "execute_result"
    }
   ],
   "source": [
    "df = pd.read_json('../data/MMHS12M.json', orient='index', convert_axes=False, convert_dates=False, keep_default_dates=False) #\n",
    "\n",
    "df.head(5)"
   ]
  },
  {
   "cell_type": "markdown",
   "metadata": {},
   "source": [
    "Make 1 Column for Classifier"
   ]
  },
  {
   "cell_type": "code",
   "execution_count": 3,
   "metadata": {},
   "outputs": [],
   "source": [
    "# dct = {0:0, 1:1, 2:1, 3:1, 4:1, 5:1}\n",
    "# df['labels'] = df['labels'].apply(lambda x: [*map(dct.get, x)])"
   ]
  },
  {
   "cell_type": "code",
   "execution_count": 4,
   "metadata": {},
   "outputs": [],
   "source": [
    "# df['majority_label'] = df.apply(lambda x: Counter(x['labels']).most_common()[0][0], axis=1)"
   ]
  },
  {
   "cell_type": "markdown",
   "metadata": {},
   "source": [
    "Delete unnecessary columns"
   ]
  },
  {
   "cell_type": "code",
   "execution_count": 5,
   "metadata": {},
   "outputs": [],
   "source": [
    "df = df.drop(columns=['labels_str', 'labels'])"
   ]
  },
  {
   "cell_type": "markdown",
   "metadata": {},
   "source": [
    "Get Spark"
   ]
  },
  {
   "cell_type": "code",
   "execution_count": 6,
   "metadata": {},
   "outputs": [],
   "source": [
    "import findspark\n",
    "\n",
    "findspark.init()\n",
    "\n",
    "from pyspark.sql import SparkSession\n",
    "import os\n",
    "\n",
    "MAX_MEMORY = \"5g\"\n",
    "spark = SparkSession.builder \\\n",
    "                    .appName('multi_class_text_classifiter')\\\n",
    "                    .config(\"spark.executor.memory\", MAX_MEMORY) \\\n",
    "                    .config(\"spark.driver.memory\", MAX_MEMORY) \\\n",
    "                    .getOrCreate()"
   ]
  },
  {
   "cell_type": "code",
   "execution_count": 7,
   "metadata": {},
   "outputs": [
    {
     "data": {
      "text/plain": [
       "0             nigga friskdontmiss  https   t co   casalwepue\n",
       "1          are horses my retarded  https     t co hyhqc6d5wn\n",
       "2          nigga ma   on youngboy momma real be spitting ...\n",
       "3          rt i xxsugvngxx  into holy ran this today     ...\n",
       "4          everybody you   now calling     nigger https  ...\n",
       "                                 ...                        \n",
       "1198579    svdate     i just gtconway3d say hes the would...\n",
       "1198580    nigga cheftime dev congrats on my grinding kee...\n",
       "1198581     my nigga big  shitty   https   t co   e0snjgbgh9\n",
       "1198582    did just say   she my to nigga rich     she  a...\n",
       "1198583    said this joe thanos nigga budden galactic got...\n",
       "Name: tweet_text_clean, Length: 1198584, dtype: object"
      ]
     },
     "execution_count": 7,
     "metadata": {},
     "output_type": "execute_result"
    }
   ],
   "source": [
    "# Diesen Abschnitt in eine Methode für Spark map auslagern.\n",
    "\n",
    "import re\n",
    "\n",
    "def clean_text(x):\n",
    "    # Nigger > nigger\n",
    "    s = x.lower()\n",
    "    # 234# > 234\n",
    "    s = re.sub(r'[^A-Za-z0-9 ]+', ' ', s)\n",
    "    # ' 234' > '234'\n",
    "    s = s.strip()\n",
    "    \n",
    "    return (s)\n",
    "\n",
    "df['tweet_text_clean'] = df['tweet_text'].apply(clean_text)\n",
    "df['tweet_text_clean']"
   ]
  },
  {
   "cell_type": "code",
   "execution_count": 8,
   "metadata": {},
   "outputs": [],
   "source": [
    "from pyspark.sql import SQLContext\n",
    "\n",
    "# sqlContext = SQLContext(spark)\n",
    "df_small = df.sample(10000)\n",
    "cleaned_df = spark.createDataFrame(df_small) #sqlContext"
   ]
  },
  {
   "cell_type": "code",
   "execution_count": 9,
   "metadata": {},
   "outputs": [],
   "source": [
    "from pyspark.ml.feature import Word2Vec\n",
    "from pyspark.ml import Pipeline\n",
    "from pyspark.ml.feature import Tokenizer\n",
    "\n",
    "# 'We hate religion' > 'We' 'hate' 'religion'\n",
    "tokenizer = Tokenizer(inputCol=\"tweet_text_clean\", outputCol=\"tokens\")\n",
    "# 'We' > (0.000, 0.032432, ...) 300 Dimensionen\n",
    "w2v = Word2Vec(vectorSize=300, minCount=0, inputCol=\"tokens\", outputCol=\"features\")\n",
    "doc2vec_pipeline = Pipeline(stages=[tokenizer,w2v])\n",
    "doc2vec_model = doc2vec_pipeline.fit(cleaned_df)\n",
    "doc2vecs_df = doc2vec_model.transform(cleaned_df)"
   ]
  },
  {
   "cell_type": "code",
   "execution_count": 10,
   "metadata": {},
   "outputs": [
    {
     "name": "stdout",
     "output_type": "stream",
     "text": [
      "+-------+-------------------+--------------------+--------------+--------+----------------------------+--------------------+--------------------+--------------------+\n",
      "|level_0|              index|          tweet_text|majority_label|len_text|tweet_text_removed_stopwords|    tweet_text_clean|              tokens|            features|\n",
      "+-------+-------------------+--------------------+--------------+--------+----------------------------+--------------------+--------------------+--------------------+\n",
      "|  14503|1034908664488964096|Think if is Ronal...|             1|      18|        think ronaldo goo...|think if is ronal...|[think, if, is, r...|[-0.0197205554244...|\n",
      "+-------+-------------------+--------------------+--------------+--------+----------------------------+--------------------+--------------------+--------------------+\n",
      "only showing top 1 row\n",
      "\n"
     ]
    }
   ],
   "source": [
    "doc2vecs_df.show(1)"
   ]
  },
  {
   "cell_type": "markdown",
   "metadata": {},
   "source": [
    "# Model Training"
   ]
  },
  {
   "cell_type": "code",
   "execution_count": 11,
   "metadata": {},
   "outputs": [],
   "source": [
    "w2v_train_df, w2v_test_df = doc2vecs_df.randomSplit([0.8, 0.2])"
   ]
  },
  {
   "cell_type": "code",
   "execution_count": 12,
   "metadata": {},
   "outputs": [],
   "source": [
    "from pyspark.ml.classification import RandomForestClassifier\n",
    "from pyspark.ml.evaluation import MulticlassClassificationEvaluator\n",
    "\n",
    "rf_classifier = RandomForestClassifier(labelCol=\"majority_label\", featuresCol=\"features\")\n",
    "\n",
    "rf_classifier_pipeline = Pipeline(stages=[rf_classifier])\n",
    "rf_predictions = rf_classifier_pipeline.fit(w2v_train_df).transform(w2v_test_df)\n",
    "\n",
    "rf_model_evaluator = MulticlassClassificationEvaluator(\n",
    "    labelCol=\"majority_label\", predictionCol=\"prediction\", metricName=\"accuracy\")"
   ]
  },
  {
   "cell_type": "code",
   "execution_count": 13,
   "metadata": {},
   "outputs": [
    {
     "name": "stdout",
     "output_type": "stream",
     "text": [
      "Accuracy = 0.748637\n"
     ]
    }
   ],
   "source": [
    "accuracy = rf_model_evaluator.evaluate(rf_predictions)\n",
    "print(\"Accuracy = %g\" % (accuracy))"
   ]
  },
  {
   "cell_type": "code",
   "execution_count": 14,
   "metadata": {},
   "outputs": [],
   "source": [
    "from pyspark.ml.classification import LogisticRegression\n",
    "\n",
    "lr_classifier = LogisticRegression(family=\"multinomial\", labelCol=\"majority_label\", featuresCol=\"features\")\n",
    "\n",
    "lr_classifier_pipeline = Pipeline(stages=[lr_classifier])\n",
    "lr_predictions = lr_classifier_pipeline.fit(w2v_train_df).transform(w2v_test_df)\n",
    "\n",
    "lr_model_evaluator = MulticlassClassificationEvaluator(\n",
    "    labelCol=\"majority_label\", predictionCol=\"prediction\", metricName=\"accuracy\")"
   ]
  },
  {
   "cell_type": "code",
   "execution_count": 15,
   "metadata": {},
   "outputs": [
    {
     "name": "stdout",
     "output_type": "stream",
     "text": [
      "Accuracy = 0.75062\n"
     ]
    }
   ],
   "source": [
    "accuracy = lr_model_evaluator.evaluate(lr_predictions)\n",
    "print(\"Accuracy = %g\" % (accuracy))"
   ]
  },
  {
   "cell_type": "code",
   "execution_count": 16,
   "metadata": {},
   "outputs": [
    {
     "name": "stdout",
     "output_type": "stream",
     "text": [
      "+-------+-------------------+--------------------+--------------+--------+----------------------------+--------------------+--------------------+--------------------+--------------------+--------------------+----------+\n",
      "|level_0|              index|          tweet_text|majority_label|len_text|tweet_text_removed_stopwords|    tweet_text_clean|              tokens|            features|       rawPrediction|         probability|prediction|\n",
      "+-------+-------------------+--------------------+--------------+--------+----------------------------+--------------------+--------------------+--------------------+--------------------+--------------------+----------+\n",
      "|   8011|1056376585593401344|@ fucking u Dodge...|             1|      14|        @dodgers u fuckin...|fucking u dodgers...|[fucking, u, dodg...|[-0.0160603587049...|[0.30421784941022...|[0.64758388130644...|       0.0|\n",
      "|  10145|1106849844302438400|Show you lit dont...|             0|      18|        lit show dont wan...|show you lit dont...|[show, you, lit, ...|[-0.0191478622811...|[0.88572699544885...|[0.85463839584782...|       0.0|\n",
      "|  14503|1034908664488964096|Think if is Ronal...|             1|      18|        think ronaldo goo...|think if is ronal...|[think, if, is, r...|[-0.0197205554244...|[0.24730336964787...|[0.62119106035374...|       0.0|\n",
      "|  24396|1105815541250445312|@ AnfieldEdition ...|             0|       9|        @anfieldedition #...|anfieldedition hb...|[anfieldedition, ...|[-0.0041492913630...|[0.52542351662843...|[0.74093751964153...|       0.0|\n",
      "|  24945|1044569886482026496|When @ rkhuria wi...|             0|      14|        @rkhuria caught p...|when   rkhuria wi...|[when, , , rkhuri...|[-0.0193586272566...|[0.21649310355335...|[0.60658652120943...|       0.0|\n",
      "|  27152|1051065316011335680|' I Sure To m Kee...|             0|      10|        i'm sure keeper w...|i sure to m keepe...|[i, sure, to, m, ...|[-0.0195148021549...|[0.21832229168383...|[0.60745921234394...|       0.0|\n",
      "|  44062|1108759214216892416|Back back to wins...|             0|       7|        back back wins wi...|back back to wins...|[back, back, to, ...|[-0.0083648105295...|[0.98756708300664...|[0.87816150490053...|       0.0|\n",
      "|  45248|1114820887147053056|Https said 👺 nig...|             0|       2|        nigga said 👺 htt...|https said   nigg...|[https, said, , ,...|[-0.0049887897097...|[1.25628217672458...|[0.92501794738359...|       0.0|\n",
      "|  47734|1050893497962823680|! ugh ’ SJW s inj...|             1|      12|        ugh! sjw’s inject...|ugh   sjw s injec...|[ugh, , , sjw, s,...|[-0.0134625594716...|[0.74440413262147...|[0.81589933233519...|       0.0|\n",
      "|  57659|1109403384291852288|AlexisofOz @ @ Tw...|             0|       7|        @alexisofoz @twit...|alexisofoz     tw...|[alexisofoz, , , ...|[-0.0020126375602...|[0.80618897328734...|[0.83374127133069...|       0.0|\n",
      "+-------+-------------------+--------------------+--------------+--------+----------------------------+--------------------+--------------------+--------------------+--------------------+--------------------+----------+\n",
      "only showing top 10 rows\n",
      "\n"
     ]
    }
   ],
   "source": [
    "lr_predictions.show(10)"
   ]
  },
  {
   "cell_type": "code",
   "execution_count": null,
   "metadata": {},
   "outputs": [],
   "source": []
  }
 ],
 "metadata": {
  "kernelspec": {
   "display_name": "Python 3 (ipykernel)",
   "language": "python",
   "name": "python3"
  },
  "language_info": {
   "codemirror_mode": {
    "name": "ipython",
    "version": 3
   },
   "file_extension": ".py",
   "mimetype": "text/x-python",
   "name": "python",
   "nbconvert_exporter": "python",
   "pygments_lexer": "ipython3",
   "version": "3.9.7"
  },
  "vscode": {
   "interpreter": {
    "hash": "28d6d9e31a694f2aba28d42b1019d9365f56410d563150feaee59905aa4508a9"
   }
  }
 },
 "nbformat": 4,
 "nbformat_minor": 4
}
