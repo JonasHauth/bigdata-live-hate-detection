{
 "cells": [
  {
   "cell_type": "markdown",
   "id": "d7e4c427-853f-4aaa-9e17-128b238cacfe",
   "metadata": {},
   "source": [
    "# Aufbereitung der Ergebnisse aus den Benchmarks"
   ]
  },
  {
   "cell_type": "markdown",
   "id": "959f9dc6-e09d-424f-bed2-06427e691199",
   "metadata": {},
   "source": [
    "## JSON vs. Parquet - Read Performance"
   ]
  },
  {
   "cell_type": "markdown",
   "id": "add0bded-c93d-4ffa-8c6c-c12912f5b924",
   "metadata": {},
   "source": [
    "| Datensatzgröße | JSON | Parquet | \n",
    "| ------------- | ---- | ------- | \n",
    "| small         | 0.4648433 s | 0.2946789 s | \n",
    "| medium        | 1.3113468 s | 0.4152662 s | \n",
    "| complete      | 241.1810196 s | 1.7962514 s | \n"
   ]
  },
  {
   "cell_type": "markdown",
   "id": "339a0dec-585d-4bbc-95e4-bdb57bdadb73",
   "metadata": {},
   "source": [
    "- Für den kleinsten Datensatz (small) beträgt die absolute Zeitersparnis 0.17 Sekunden, was einer relative Zeitersparnis von 36.7% entspricht.\n",
    "\n",
    "- Für den mittelgroßen Datensatz (medium) beträgt die absolute Zeitersparnis 0.89 Sekunden, was einer relative Zeitersparnis von 68.3% entspricht.\n",
    "\n",
    "- Für den kompletten Datensatz (complete) beträgt die absolute Zeitersparnis 239.38 Sekunden, was einer relative Zeitersparnis von 98.4% entspricht."
   ]
  },
  {
   "cell_type": "markdown",
   "id": "1b8de74c-1c43-4689-a2bb-bb869534c4bd",
   "metadata": {},
   "source": [
    "## Anzahl Kerne (1/2/4/8) - Trainings Performance"
   ]
  },
  {
   "cell_type": "markdown",
   "id": "459b8cca-ff9e-4564-ad2b-4d2153324886",
   "metadata": {},
   "source": [
    "| Datensatzgröße | 1 Kern | 2 Kerne | 4 Kerne | 8 Kerne |\n",
    "| --- | --- | --- | --- | --- |\n",
    "| small | 5.04s (0.21s) | 3.32s (0.19s) | 2.47s (0.31s) | 2.42s (0.23s) |\n",
    "| medium | 17.35s (0.44s) | 10.25s (0.08s) | 6.44s (0.10s) | 5.86s (0.17s) |\n",
    "| complete | 31.85s (0.75s) | 18.88s (0.36s) | 12.47s (0.33s) | 11.25s (0.45s) |"
   ]
  },
  {
   "cell_type": "markdown",
   "id": "9f6bfa44-dfa4-4bae-90ab-0dffc0ec2c28",
   "metadata": {},
   "source": [
    "Für den kleinsten Datensatz (small) verbessert sich die Verarbeitungszeit um:\n",
    "- bei 2 Kernen: (5.04 - 3.32) / 5.04 = 34%\n",
    "- bei 4 Kernen: (5.04 - 2.47) / 5.04 = 51%\n",
    "- bei 8 Kernen: (5.04 - 2.42) / 5.04 = 52%\n",
    "\n",
    "Für den mittelgroßen Datensatz (medium) verbessert sich die Verarbeitungszeit um:\n",
    "- bei 2 Kernen: (17.35 - 10.25) / 17.35 = 41%\n",
    "- bei 4 Kernen: (17.35 - 6.44) / 17.35 = 63%\n",
    "- bei 8 Kernen: (17.35 - 5.86) / 17.35 = 66%\n",
    "\n",
    "Für den kompletten Datensatz (complete) verbessert sich die Verarbeitungszeit um:\n",
    "- bei 2 Kernen: (31.85 - 18.88) / 31.85 = 40%\n",
    "- bei 4 Kernen: (31.85 - 12.47) / 31.85 = 61%\n",
    "- bei 8 Kernen: (31.85 - 11.25) / 31.85 = 65%"
   ]
  },
  {
   "cell_type": "markdown",
   "id": "6963dac1-4baa-4e12-89ed-b8a958bcc267",
   "metadata": {},
   "source": [
    "Basierend auf den angegebenen Daten kann man schlussfolgern, dass sich die Verarbeitungszeit bei allen drei Datensatzgrößen (small, medium, complete) durch Hinzunahme von Prozessorkernen verbessert:\n",
    "\n",
    "\n",
    "   - Dabei ist die Verbesserung am größten bei dem mittelgroßen Datensatz, mit einer Steigerung von 66% bei Verwendung von 8 Kernen im Vergleich zu 1 Kern.\n",
    "   - Bei dem kleinsten Datensatz ist die Verbesserung geringer, aber immer noch erheblich, mit einer Steigerung von 52% bei 8 Kernen.\n",
    "   - Die Verarbeitungszeit des kompletten Datensatzes verbessert sich um 65% bei Verwendung von 8 Kernen.\n",
    "    \n",
    "    \n",
    "\n",
    "Insgesamt kann man sagen, dass die Hinzunahme von Prozessorkernen zu einer signifikanten Verbesserung der Verarbeitungszeit führt.\n",
    "\n",
    "\n",
    "\n"
   ]
  },
  {
   "cell_type": "markdown",
   "id": "845e5575-4f12-41f8-9165-fcca76f37f13",
   "metadata": {},
   "source": [
    "Die Verwendung von mehreren Kernen bringt für das Training eines Datensatzes Vorteile, aber: eine weitere Erhöhung der Kernanzahl lohnt sich nur bis zu einem gewissen Punkt."
   ]
  }
 ],
 "metadata": {
  "kernelspec": {
   "display_name": "Python 3 (ipykernel)",
   "language": "python",
   "name": "python3"
  },
  "language_info": {
   "codemirror_mode": {
    "name": "ipython",
    "version": 3
   },
   "file_extension": ".py",
   "mimetype": "text/x-python",
   "name": "python",
   "nbconvert_exporter": "python",
   "pygments_lexer": "ipython3",
   "version": "3.9.13"
  }
 },
 "nbformat": 4,
 "nbformat_minor": 5
}
