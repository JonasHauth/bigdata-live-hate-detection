{
 "cells": [
  {
   "cell_type": "code",
   "execution_count": null,
   "metadata": {},
   "outputs": [],
   "source": [
    "import findspark\n",
    "\n",
    "findspark.init()\n",
    "\n",
    "from pyspark.sql import SparkSession\n",
    "from pyspark.ml import PipelineModel\n",
    "from pyspark.sql.functions import col, regexp_replace, lower\n",
    "import os\n",
    "\n",
    "\n",
    "MAX_MEMORY = \"6g\"\n",
    "spark = SparkSession.builder \\\n",
    "                    .appName('multi_class_text_classifiter')\\\n",
    "                    .master(\"local[8]\") \\\n",
    "                    .config(\"spark.executor.memory\", MAX_MEMORY) \\\n",
    "                    .config(\"spark.driver.memory\", MAX_MEMORY) \\\n",
    "                    .getOrCreate()\n",
    "\n",
    "print(\"Apache Spark version: \", spark.version)\n",
    "spark"
   ]
  },
  {
   "attachments": {},
   "cell_type": "markdown",
   "metadata": {},
   "source": [
    "# Speicher Benchmark"
   ]
  },
  {
   "attachments": {},
   "cell_type": "markdown",
   "metadata": {},
   "source": [
    "## Small Size\n",
    "Speicherplatz für 2656 Tweets mit Metadaten ohne Bild- und Videodaten:\n",
    "- Json: 13,9 MB (14.673.664 Bytes)\n",
    "- Parquet: 4,94 MB (5.189.286 Bytes)"
   ]
  },
  {
   "cell_type": "code",
   "execution_count": null,
   "metadata": {},
   "outputs": [],
   "source": [
    "df = spark.read.json(\"C://data/twitter-stream-json-small/*.json\")\n",
    "df.printSchema()"
   ]
  },
  {
   "cell_type": "code",
   "execution_count": 7,
   "metadata": {},
   "outputs": [
    {
     "name": "stdout",
     "output_type": "stream",
     "text": [
      "Anzahl Tweets in Sample: 2656\n"
     ]
    }
   ],
   "source": [
    "print(f\"Anzahl Tweets in Sample: {df.count()}\")"
   ]
  },
  {
   "cell_type": "code",
   "execution_count": 8,
   "metadata": {},
   "outputs": [],
   "source": [
    "df.write.mode(\"overwrite\").parquet(\"C://data/twitter-stream-parquet-small/\")"
   ]
  },
  {
   "attachments": {},
   "cell_type": "markdown",
   "metadata": {},
   "source": [
    "## Medium Size\n",
    "Speicherplatz für 25120 Tweets mit Metadaten ohne Bild- und Videodaten:\n",
    "- Json: 136 MB (143.647.697 Bytes)\n",
    "- Parquet: 36,1 MB (37.944.391 Bytes)"
   ]
  },
  {
   "cell_type": "code",
   "execution_count": null,
   "metadata": {},
   "outputs": [],
   "source": [
    "df = spark.read.json(\"C://data/twitter-stream-json-medium/*.json\")\n",
    "df.printSchema()"
   ]
  },
  {
   "cell_type": "code",
   "execution_count": 10,
   "metadata": {},
   "outputs": [
    {
     "name": "stdout",
     "output_type": "stream",
     "text": [
      "Anzahl Tweets in Sample: 25120\n"
     ]
    }
   ],
   "source": [
    "print(f\"Anzahl Tweets in Sample: {df.count()}\")"
   ]
  },
  {
   "cell_type": "code",
   "execution_count": 11,
   "metadata": {},
   "outputs": [],
   "source": [
    "df.write.mode(\"overwrite\").parquet(\"C://data/twitter-stream-parquet-medium/\")"
   ]
  },
  {
   "attachments": {},
   "cell_type": "markdown",
   "metadata": {},
   "source": [
    "## Large Size\n",
    "Speicherplatz für 4042326 Tweets mit Metadaten ohne Bild- und Videodaten:\n",
    "- Json: 22,2 GB (23.893.897.461 Bytes)\n",
    "- Parquet: 5,01 GB (5.389.266.159 Bytes)"
   ]
  },
  {
   "cell_type": "code",
   "execution_count": null,
   "metadata": {},
   "outputs": [],
   "source": [
    "df = spark.read.json(\"C://data/twitter-stream-json-complete/*.json\")\n",
    "df.printSchema()"
   ]
  },
  {
   "cell_type": "code",
   "execution_count": 13,
   "metadata": {},
   "outputs": [
    {
     "name": "stdout",
     "output_type": "stream",
     "text": [
      "Anzahl Tweets in Sample: 4042326\n"
     ]
    }
   ],
   "source": [
    "print(f\"Anzahl Tweets in Sample: {df.count()}\")"
   ]
  },
  {
   "cell_type": "code",
   "execution_count": 14,
   "metadata": {},
   "outputs": [],
   "source": [
    "df.write.mode(\"overwrite\").parquet(\"C://data/twitter-stream-parquet-complete/\")"
   ]
  },
  {
   "attachments": {},
   "cell_type": "markdown",
   "metadata": {},
   "source": [
    "# Read-Geschwindigkeit Benchmark\n",
    "- Jeden Datensatz einmal vom Dateisystem einlesen und die Anzahl der Zeilen zählen, um die Ausführung zu triggern.\n",
    "- Ausführbarer Code: Benchmark_Read.py"
   ]
  },
  {
   "attachments": {},
   "cell_type": "markdown",
   "metadata": {},
   "source": [
    "## Small Size\n",
    "Ladezeit für 2656 Tweets mit Metodaten ohne Bild- und Videodaten:\n",
    "- Json: 0.46s\n",
    "- Parquet: 0.29s (Speedup: 1,58)"
   ]
  },
  {
   "attachments": {},
   "cell_type": "markdown",
   "metadata": {},
   "source": [
    "## Medium Size\n",
    "Ladezeit für 25120 Tweets mit Metodaten ohne Bild- und Videodaten:\n",
    "- Json: 1.31s\n",
    "- Parquet: 0.41s (Speedup: 3,19)"
   ]
  },
  {
   "attachments": {},
   "cell_type": "markdown",
   "metadata": {},
   "source": [
    "## Large Size\n",
    "Ladezeit für 4042326 Tweets mit Metodaten ohne Bild- und Videodaten:\n",
    "- Json: 241.18s\n",
    "- Parquet: 1.79s (Speedup: 134,73)"
   ]
  }
 ],
 "metadata": {
  "kernelspec": {
   "display_name": "base",
   "language": "python",
   "name": "python3"
  },
  "language_info": {
   "codemirror_mode": {
    "name": "ipython",
    "version": 3
   },
   "file_extension": ".py",
   "mimetype": "text/x-python",
   "name": "python",
   "nbconvert_exporter": "python",
   "pygments_lexer": "ipython3",
   "version": "3.9.13 (main, Aug 25 2022, 23:51:50) [MSC v.1916 64 bit (AMD64)]"
  },
  "orig_nbformat": 4,
  "vscode": {
   "interpreter": {
    "hash": "8fb95653776c9bc119c508621720686c5ecc2cd3dc0e93618745aec1af9c6006"
   }
  }
 },
 "nbformat": 4,
 "nbformat_minor": 2
}
