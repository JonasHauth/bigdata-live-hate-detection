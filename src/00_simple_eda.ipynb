{
 "cells": [
  {
   "cell_type": "markdown",
   "metadata": {},
   "source": [
    "# Imports"
   ]
  },
  {
   "cell_type": "code",
   "execution_count": 1,
   "metadata": {},
   "outputs": [],
   "source": [
    "import pandas as pd\n",
    "from collections import Counter\n",
    "import matplotlib.pyplot as plt\n",
    "import string\n",
    "\n",
    "# Import stopwords with nltk.\n",
    "from nltk.corpus import stopwords\n",
    "stop = stopwords.words('english')\n",
    "\n",
    "#import nltk\n",
    "#nltk.download('stopwords')"
   ]
  },
  {
   "cell_type": "code",
   "execution_count": 2,
   "metadata": {},
   "outputs": [
    {
     "data": {
      "text/html": [
       "<div>\n",
       "<style scoped>\n",
       "    .dataframe tbody tr th:only-of-type {\n",
       "        vertical-align: middle;\n",
       "    }\n",
       "\n",
       "    .dataframe tbody tr th {\n",
       "        vertical-align: top;\n",
       "    }\n",
       "\n",
       "    .dataframe thead th {\n",
       "        text-align: right;\n",
       "    }\n",
       "</style>\n",
       "<table border=\"1\" class=\"dataframe\">\n",
       "  <thead>\n",
       "    <tr style=\"text-align: right;\">\n",
       "      <th></th>\n",
       "      <th>labels</th>\n",
       "      <th>tweet_text</th>\n",
       "      <th>labels_str</th>\n",
       "    </tr>\n",
       "  </thead>\n",
       "  <tbody>\n",
       "    <tr>\n",
       "      <th>1114679353714016256</th>\n",
       "      <td>[4, 1, 3]</td>\n",
       "      <td>@FriskDontMiss Nigga https://t.co/cAsaLWEpue</td>\n",
       "      <td>[Religion, Racist, Homophobe]</td>\n",
       "    </tr>\n",
       "    <tr>\n",
       "      <th>1063020048816660480</th>\n",
       "      <td>[5, 5, 5]</td>\n",
       "      <td>My horses are retarded https://t.co/HYhqc6d5WN</td>\n",
       "      <td>[OtherHate, OtherHate, OtherHate]</td>\n",
       "    </tr>\n",
       "    <tr>\n",
       "      <th>1108927368075374593</th>\n",
       "      <td>[0, 0, 0]</td>\n",
       "      <td>“NIGGA ON MA MOMMA YOUNGBOY BE SPITTING REAL S...</td>\n",
       "      <td>[NotHate, NotHate, NotHate]</td>\n",
       "    </tr>\n",
       "    <tr>\n",
       "      <th>1114558534635618305</th>\n",
       "      <td>[1, 0, 0]</td>\n",
       "      <td>RT xxSuGVNGxx: I ran into this HOLY NIGGA TODA...</td>\n",
       "      <td>[Racist, NotHate, NotHate]</td>\n",
       "    </tr>\n",
       "    <tr>\n",
       "      <th>1035252480215592966</th>\n",
       "      <td>[1, 0, 1]</td>\n",
       "      <td>“EVERYbody calling you Nigger now!” https://t....</td>\n",
       "      <td>[Racist, NotHate, Racist]</td>\n",
       "    </tr>\n",
       "  </tbody>\n",
       "</table>\n",
       "</div>"
      ],
      "text/plain": [
       "                        labels  \\\n",
       "1114679353714016256  [4, 1, 3]   \n",
       "1063020048816660480  [5, 5, 5]   \n",
       "1108927368075374593  [0, 0, 0]   \n",
       "1114558534635618305  [1, 0, 0]   \n",
       "1035252480215592966  [1, 0, 1]   \n",
       "\n",
       "                                                            tweet_text  \\\n",
       "1114679353714016256       @FriskDontMiss Nigga https://t.co/cAsaLWEpue   \n",
       "1063020048816660480     My horses are retarded https://t.co/HYhqc6d5WN   \n",
       "1108927368075374593  “NIGGA ON MA MOMMA YOUNGBOY BE SPITTING REAL S...   \n",
       "1114558534635618305  RT xxSuGVNGxx: I ran into this HOLY NIGGA TODA...   \n",
       "1035252480215592966  “EVERYbody calling you Nigger now!” https://t....   \n",
       "\n",
       "                                            labels_str  \n",
       "1114679353714016256      [Religion, Racist, Homophobe]  \n",
       "1063020048816660480  [OtherHate, OtherHate, OtherHate]  \n",
       "1108927368075374593        [NotHate, NotHate, NotHate]  \n",
       "1114558534635618305         [Racist, NotHate, NotHate]  \n",
       "1035252480215592966          [Racist, NotHate, Racist]  "
      ]
     },
     "execution_count": 2,
     "metadata": {},
     "output_type": "execute_result"
    }
   ],
   "source": [
    "tweets_text_label = pd.read_json('../data/MMHS150K_GT.json', orient='index', convert_axes=False, convert_dates=False, keep_default_dates=False) #\n",
    "tweets_text_label = tweets_text_label.drop(columns=['img_url', 'tweet_url'])\n",
    "tweets_text_label.head(5)"
   ]
  },
  {
   "cell_type": "markdown",
   "metadata": {},
   "source": [
    "# Multimodal Hate Speech"
   ]
  },
  {
   "cell_type": "markdown",
   "metadata": {},
   "source": [
    "# Size"
   ]
  },
  {
   "cell_type": "code",
   "execution_count": 3,
   "metadata": {},
   "outputs": [
    {
     "name": "stdout",
     "output_type": "stream",
     "text": [
      "For the training we have 149823 unique annotated tweets with text and image data. Taking up over 6GB of Disk Space\n"
     ]
    }
   ],
   "source": [
    "print(f'For the training we have {len(tweets_text_label)} unique annotated tweets with text and image data. Taking up over 6GB of Disk Space')"
   ]
  },
  {
   "cell_type": "markdown",
   "metadata": {},
   "source": [
    "## Label Distribution\n",
    "The dataset distinguishes between 0 - NotHate, 1 - Racist, 2 - Sexist, 3 - Homophobe, 4 - Religion, 5 - OtherHate for our purpose we shrink it to 0 - NotHate, 1 - Hate. <br>\n",
    "Each tweet in the dataset was annotated by 3 different Annotators. Therefore we follow the majority of Voters."
   ]
  },
  {
   "cell_type": "code",
   "execution_count": 4,
   "metadata": {},
   "outputs": [],
   "source": [
    "dct = {0:0, 1:1, 2:1, 3:1, 4:1, 5:1}\n",
    "tweets_text_label['labels'] = tweets_text_label['labels'].apply(lambda x: [*map(dct.get, x)])"
   ]
  },
  {
   "cell_type": "code",
   "execution_count": 5,
   "metadata": {},
   "outputs": [],
   "source": [
    "tweets_text_label['majority_label'] = tweets_text_label.apply(lambda x: Counter(x['labels']).most_common()[0][0], axis=1)"
   ]
  },
  {
   "cell_type": "code",
   "execution_count": 6,
   "metadata": {},
   "outputs": [
    {
     "data": {
      "text/plain": [
       "<AxesSubplot:>"
      ]
     },
     "execution_count": 6,
     "metadata": {},
     "output_type": "execute_result"
    },
    {
     "data": {
      "image/png": "[encoded data removed]",
      "text/plain": [
       "<Figure size 432x288 with 1 Axes>"
      ]
     },
     "metadata": {
      "needs_background": "light"
     },
     "output_type": "display_data"
    }
   ],
   "source": [
    "tweets_text_label['majority_label'].value_counts().sort_values().plot(kind = 'barh')"
   ]
  },
  {
   "cell_type": "markdown",
   "metadata": {},
   "source": [
    "# Text Data"
   ]
  },
  {
   "cell_type": "markdown",
   "metadata": {},
   "source": [
    "Länge der Texte"
   ]
  },
  {
   "cell_type": "code",
   "execution_count": 7,
   "metadata": {},
   "outputs": [
    {
     "data": {
      "text/plain": [
       "majority_label\n",
       "0    9.481037\n",
       "1    9.458386\n",
       "Name: len_text, dtype: float64"
      ]
     },
     "execution_count": 7,
     "metadata": {},
     "output_type": "execute_result"
    }
   ],
   "source": [
    "tweets_text_label['len_text'] = tweets_text_label['tweet_text'].apply(lambda x: sum([i.strip(string.punctuation).isalpha() for i in x.split()]))\n",
    "tweets_text_label.groupby(['majority_label'])['len_text'].mean()"
   ]
  },
  {
   "cell_type": "markdown",
   "metadata": {},
   "source": [
    "Top Words ohne Stopwords"
   ]
  },
  {
   "cell_type": "code",
   "execution_count": 8,
   "metadata": {},
   "outputs": [],
   "source": [
    "tweets_text_label[\"tweet_text_removed_stopwords\"] = tweets_text_label[\"tweet_text\"].apply(lambda x: ' '.join([word for word in x.lower().split() if word not in (stop)]))"
   ]
  },
  {
   "cell_type": "code",
   "execution_count": 9,
   "metadata": {},
   "outputs": [
    {
     "data": {
      "text/plain": [
       "[('nigga', 69328),\n",
       " ('like', 10656),\n",
       " ('cunt', 10386),\n",
       " ('ass', 5955),\n",
       " ('dyke', 5939),\n",
       " ('twat', 5320),\n",
       " ('got', 5098),\n",
       " ('i’m', 5051),\n",
       " ('fuck', 4937),\n",
       " ('get', 4606)]"
      ]
     },
     "execution_count": 9,
     "metadata": {},
     "output_type": "execute_result"
    }
   ],
   "source": [
    "# Most common words overall.\n",
    "Counter(\" \".join(tweets_text_label[\"tweet_text_removed_stopwords\"]).split()).most_common(10)"
   ]
  },
  {
   "cell_type": "code",
   "execution_count": 10,
   "metadata": {},
   "outputs": [
    {
     "data": {
      "text/plain": [
       "[('nigga', 60254),\n",
       " ('like', 8289),\n",
       " ('cunt', 7092),\n",
       " ('ass', 4636),\n",
       " ('got', 4090),\n",
       " ('i’m', 4027),\n",
       " ('dyke', 3880),\n",
       " ('twat', 3814),\n",
       " ('fuck', 3681),\n",
       " ('get', 3474)]"
      ]
     },
     "execution_count": 10,
     "metadata": {},
     "output_type": "execute_result"
    }
   ],
   "source": [
    "# Most common words for NotHate.\n",
    "tweets_text_label_0 = tweets_text_label[tweets_text_label['majority_label'] == 0]\n",
    "Counter(\" \".join(tweets_text_label_0[\"tweet_text_removed_stopwords\"]).split()).most_common(10)"
   ]
  },
  {
   "cell_type": "code",
   "execution_count": 11,
   "metadata": {},
   "outputs": [
    {
     "data": {
      "text/plain": [
       "[('nigga', 9074),\n",
       " ('cunt', 3294),\n",
       " ('faggot', 2690),\n",
       " ('nigger', 2398),\n",
       " ('like', 2367),\n",
       " ('retarded', 2200),\n",
       " ('dyke', 2059),\n",
       " ('white', 1682),\n",
       " ('twat', 1506),\n",
       " ('retard', 1446)]"
      ]
     },
     "execution_count": 11,
     "metadata": {},
     "output_type": "execute_result"
    }
   ],
   "source": [
    "# Most common words for Hate.\n",
    "tweets_text_label_1 = tweets_text_label[tweets_text_label['majority_label'] == 1]\n",
    "Counter(\" \".join(tweets_text_label_1[\"tweet_text_removed_stopwords\"]).split()).most_common(10)"
   ]
  },
  {
   "attachments": {},
   "cell_type": "markdown",
   "metadata": {},
   "source": [
    "# Data Augmentation\n",
    "Aus der Bibliothek NLPAug haben wir 2 verschiedene Methoden genutzt, um den Trainingsdatensatz sinnvoll auszuweitern.\n",
    "- Synonym Augmenter: Nutzt eine Datenbank von Synonymen basierend auf Wordnet um einzelne Worte zu ersetzten.\n",
    "- Random Word Augmenter: Einzelne Wörter aus den Tweets werden in den Reihenfolge getauscht\n",
    "\n",
    "Mit diesen Methoden wurde der Datensatz von ca. 150K auf 1.2M gelabelte Tweets erweitert."
   ]
  },
  {
   "cell_type": "code",
   "execution_count": 13,
   "metadata": {},
   "outputs": [
    {
     "name": "stderr",
     "output_type": "stream",
     "text": [
      "[nltk_data] Downloading package wordnet to C:\\Users\\Jonas\n",
      "[nltk_data]     Surface\\AppData\\Roaming\\nltk_data...\n",
      "[nltk_data] Downloading package omw-1.4 to C:\\Users\\Jonas\n",
      "[nltk_data]     Surface\\AppData\\Roaming\\nltk_data...\n",
      "[nltk_data] Downloading package averaged_perceptron_tagger to\n",
      "[nltk_data]     C:\\Users\\Jonas Surface\\AppData\\Roaming\\nltk_data...\n",
      "[nltk_data]   Unzipping taggers\\averaged_perceptron_tagger.zip.\n"
     ]
    },
    {
     "name": "stdout",
     "output_type": "stream",
     "text": [
      "1114679353714016256    @ FriskDontMiss Nigga https: / / tonne. centen...\n",
      "1063020048816660480    My horses embody retarded hypertext transfer p...\n",
      "1108927368075374593    “ NIGGA ON MA mammy YOUNGBOY BE SPITTING REAL ...\n",
      "1114558534635618305    RT xxSuGVNGxx: I ran into this sanctum NIGGA T...\n",
      "1035252480215592966    “ EVERYbody call you Nigger today! ” hypertext...\n",
      "                                             ...                        \n",
      "1114170734472048640    @ svdate @ gtconway3d I would simply order hes...\n",
      "1110368198786846720    @ Cheftime_Dev congrats my nigga proceed on gr...\n",
      "1106941858540851200    My nigga large shitty https: / / mt. co / e0sn...\n",
      "1105268309233188865    did she precisely say “ my nigga ” to Rich peo...\n",
      "1114653514364530691    This nigga Joe Budden say thanos mother a gala...\n",
      "Name: tweet_text, Length: 149823, dtype: object\n",
      "<class 'pandas.core.frame.DataFrame'>\n",
      "Index: 299646 entries, 1114679353714016256 to 1114653514364530691\n",
      "Data columns (total 6 columns):\n",
      " #   Column                        Non-Null Count   Dtype \n",
      "---  ------                        --------------   ----- \n",
      " 0   labels                        299646 non-null  object\n",
      " 1   tweet_text                    299646 non-null  object\n",
      " 2   labels_str                    299646 non-null  object\n",
      " 3   majority_label                299646 non-null  int64 \n",
      " 4   len_text                      299646 non-null  int64 \n",
      " 5   tweet_text_removed_stopwords  299646 non-null  object\n",
      "dtypes: int64(2), object(4)\n",
      "memory usage: 16.0+ MB\n"
     ]
    }
   ],
   "source": [
    "import nlpaug.augmenter.word as naw\n",
    "\n",
    "aug = naw.SynonymAug(aug_src='wordnet')\n",
    "\n",
    "text_label_1 = tweets_text_label['tweet_text'].apply(lambda x: aug.augment(x)[0])\n",
    "\n",
    "print(text_label_1)\n",
    "\n",
    "tweets_text_label_1 = tweets_text_label\n",
    "tweets_text_label_1['tweet_text'] = text_label_1\n",
    "\n",
    "tweets_text_label = tweets_text_label.append(tweets_text_label_1)\n",
    "\n",
    "tweets_text_label.info()"
   ]
  },
  {
   "cell_type": "code",
   "execution_count": 17,
   "metadata": {},
   "outputs": [
    {
     "name": "stdout",
     "output_type": "stream",
     "text": [
      "1114679353714016256    @ Nigga FriskDontMiss: https / t co /. cAsaLWE...\n",
      "1063020048816660480    Are horses my retarded: https / /. t co HYhqc6...\n",
      "1108927368075374593    NIGGA MA “ ON YOUNGBOY MOMMA REAL BE SPITTING ...\n",
      "1114558534635618305    RT I xxSuGVNGxx: into HOLY ran this TODAY 😭 😭 ...\n",
      "1035252480215592966    EVERYbody you “ now calling ”! : Nigger https ...\n",
      "                                             ...                        \n",
      "1114170734472048640    Svdate @ @ I just gtconway3d say hes the would...\n",
      "1110368198786846720    @ nigga Cheftime_Dev congrats on my grinding k...\n",
      "1106941858540851200    My nigga big: shitty / https /. t co / e0snJGBgH9\n",
      "1105268309233188865    Did just say “ she my to nigga Rich ”? & she; ...\n",
      "1114653514364530691    Said this Joe thanos nigga Budden galactic got...\n",
      "Name: tweet_text, Length: 599292, dtype: object\n",
      "<class 'pandas.core.frame.DataFrame'>\n",
      "Index: 1198584 entries, 1114679353714016256 to 1114653514364530691\n",
      "Data columns (total 6 columns):\n",
      " #   Column                        Non-Null Count    Dtype \n",
      "---  ------                        --------------    ----- \n",
      " 0   labels                        1198584 non-null  object\n",
      " 1   tweet_text                    1198584 non-null  object\n",
      " 2   labels_str                    1198584 non-null  object\n",
      " 3   majority_label                1198584 non-null  int64 \n",
      " 4   len_text                      1198584 non-null  int64 \n",
      " 5   tweet_text_removed_stopwords  1198584 non-null  object\n",
      "dtypes: int64(2), object(4)\n",
      "memory usage: 64.0+ MB\n"
     ]
    }
   ],
   "source": [
    "import nlpaug.augmenter.word as naw\n",
    "\n",
    "aug = naw.RandomWordAug(action=\"swap\")\n",
    "\n",
    "text_label_1 = tweets_text_label['tweet_text'].apply(lambda x: aug.augment(x)[0])\n",
    "\n",
    "print(text_label_1)\n",
    "\n",
    "tweets_text_label_1 = tweets_text_label\n",
    "tweets_text_label_1['tweet_text'] = text_label_1\n",
    "\n",
    "tweets_text_label = tweets_text_label.append(tweets_text_label_1)\n",
    "\n",
    "tweets_text_label.info()"
   ]
  }
 ],
 "metadata": {
  "kernelspec": {
   "display_name": "Python 3 (ipykernel)",
   "language": "python",
   "name": "python3"
  },
  "language_info": {
   "codemirror_mode": {
    "name": "ipython",
    "version": 3
   },
   "file_extension": ".py",
   "mimetype": "text/x-python",
   "name": "python",
   "nbconvert_exporter": "python",
   "pygments_lexer": "ipython3",
   "version": "3.9.7 (default, Sep 16 2021, 16:59:28) [MSC v.1916 64 bit (AMD64)]"
  },
  "vscode": {
   "interpreter": {
    "hash": "28d6d9e31a694f2aba28d42b1019d9365f56410d563150feaee59905aa4508a9"
   }
  }
 },
 "nbformat": 4,
 "nbformat_minor": 4
}
